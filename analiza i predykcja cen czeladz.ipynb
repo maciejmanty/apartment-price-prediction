{
 "cells": [
  {
   "cell_type": "code",
   "execution_count": 1,
   "id": "4b41f399",
   "metadata": {},
   "outputs": [],
   "source": [
    "#imports\n",
    "import pandas as pd\n",
    "import matplotlib.pyplot as plt\n",
    "import seaborn as sns\n",
    "import numpy as np\n",
    "import plotly.express as px\n",
    "from sklearn.linear_model import LinearRegression"
   ]
  },
  {
   "cell_type": "code",
   "execution_count": 2,
   "id": "b1c39568",
   "metadata": {},
   "outputs": [
    {
     "data": {
      "text/html": [
       "<div>\n",
       "<style scoped>\n",
       "    .dataframe tbody tr th:only-of-type {\n",
       "        vertical-align: middle;\n",
       "    }\n",
       "\n",
       "    .dataframe tbody tr th {\n",
       "        vertical-align: top;\n",
       "    }\n",
       "\n",
       "    .dataframe thead th {\n",
       "        text-align: right;\n",
       "    }\n",
       "</style>\n",
       "<table border=\"1\" class=\"dataframe\">\n",
       "  <thead>\n",
       "    <tr style=\"text-align: right;\">\n",
       "      <th></th>\n",
       "      <th>name</th>\n",
       "      <th>metrage in m2</th>\n",
       "      <th>number of rooms</th>\n",
       "      <th>floor</th>\n",
       "      <th>balcony</th>\n",
       "      <th>price in zl</th>\n",
       "      <th>price per metre in zl</th>\n",
       "    </tr>\n",
       "  </thead>\n",
       "  <tbody>\n",
       "    <tr>\n",
       "      <th>0</th>\n",
       "      <td>Mieszkanie 3-pokojowe Czeladź BEZ POŚREDNIKÓW</td>\n",
       "      <td>Powierzchnia57,5 m²</td>\n",
       "      <td>Liczba pokoi3</td>\n",
       "      <td>Piętro3/3</td>\n",
       "      <td>Balkon / ogród / tarasbalkon</td>\n",
       "      <td>325 000 zł</td>\n",
       "      <td>5 652 zł/m²</td>\n",
       "    </tr>\n",
       "    <tr>\n",
       "      <th>1</th>\n",
       "      <td>Mieszkanie Czeladź, Niepodległości, 3 pokoje</td>\n",
       "      <td>Powierzchnia52 m²</td>\n",
       "      <td>Liczba pokoi3</td>\n",
       "      <td>Piętro4/4</td>\n",
       "      <td>Balkon / ogród / tarasbalkon</td>\n",
       "      <td>399 000 zł</td>\n",
       "      <td>7 673 zł/m²</td>\n",
       "    </tr>\n",
       "    <tr>\n",
       "      <th>2</th>\n",
       "      <td>Mieszkanie M2 30m2 - ul. Miasta Auby 2</td>\n",
       "      <td>Powierzchnia30 m²</td>\n",
       "      <td>Liczba pokoi1</td>\n",
       "      <td>Piętro4/10</td>\n",
       "      <td>Balkon / ogród / taraszapytaj</td>\n",
       "      <td>166 000 zł</td>\n",
       "      <td>5 533 zł/m²</td>\n",
       "    </tr>\n",
       "    <tr>\n",
       "      <th>3</th>\n",
       "      <td>Mieszkanie 3-pokojowe Czeladź BEZ POŚREDNIKÓW</td>\n",
       "      <td>Powierzchnia57,5 m²</td>\n",
       "      <td>Liczba pokoi3</td>\n",
       "      <td>Piętro3/3</td>\n",
       "      <td>Balkon / ogród / tarasbalkon</td>\n",
       "      <td>325 000 zł</td>\n",
       "      <td>5 652 zł/m²</td>\n",
       "    </tr>\n",
       "    <tr>\n",
       "      <th>4</th>\n",
       "      <td>Dwupokojowe w Czeladzi !!!</td>\n",
       "      <td>Powierzchnia43 m²</td>\n",
       "      <td>Liczba pokoi2</td>\n",
       "      <td>Piętro2/4</td>\n",
       "      <td>Balkon / ogród / tarasbalkon</td>\n",
       "      <td>190 000 zł</td>\n",
       "      <td>4 419 zł/m²</td>\n",
       "    </tr>\n",
       "  </tbody>\n",
       "</table>\n",
       "</div>"
      ],
      "text/plain": [
       "                                            name        metrage in m2  \\\n",
       "0  Mieszkanie 3-pokojowe Czeladź BEZ POŚREDNIKÓW  Powierzchnia57,5 m²   \n",
       "1   Mieszkanie Czeladź, Niepodległości, 3 pokoje    Powierzchnia52 m²   \n",
       "2         Mieszkanie M2 30m2 - ul. Miasta Auby 2    Powierzchnia30 m²   \n",
       "3  Mieszkanie 3-pokojowe Czeladź BEZ POŚREDNIKÓW  Powierzchnia57,5 m²   \n",
       "4                     Dwupokojowe w Czeladzi !!!    Powierzchnia43 m²   \n",
       "\n",
       "  number of rooms       floor                        balcony price in zl  \\\n",
       "0   Liczba pokoi3   Piętro3/3   Balkon / ogród / tarasbalkon  325 000 zł   \n",
       "1   Liczba pokoi3   Piętro4/4   Balkon / ogród / tarasbalkon  399 000 zł   \n",
       "2   Liczba pokoi1  Piętro4/10  Balkon / ogród / taraszapytaj  166 000 zł   \n",
       "3   Liczba pokoi3   Piętro3/3   Balkon / ogród / tarasbalkon  325 000 zł   \n",
       "4   Liczba pokoi2   Piętro2/4   Balkon / ogród / tarasbalkon  190 000 zł   \n",
       "\n",
       "  price per metre in zl  \n",
       "0           5 652 zł/m²  \n",
       "1           7 673 zł/m²  \n",
       "2           5 533 zł/m²  \n",
       "3           5 652 zł/m²  \n",
       "4           4 419 zł/m²  "
      ]
     },
     "execution_count": 2,
     "metadata": {},
     "output_type": "execute_result"
    }
   ],
   "source": [
    "df = pd.read_csv(r\"D:\\python\\projects\\banking_system\\Czeladz mieszkania\")\n",
    "df.head()"
   ]
  },
  {
   "cell_type": "code",
   "execution_count": 3,
   "id": "6acf2d13",
   "metadata": {},
   "outputs": [
    {
     "data": {
      "text/html": [
       "<div>\n",
       "<style scoped>\n",
       "    .dataframe tbody tr th:only-of-type {\n",
       "        vertical-align: middle;\n",
       "    }\n",
       "\n",
       "    .dataframe tbody tr th {\n",
       "        vertical-align: top;\n",
       "    }\n",
       "\n",
       "    .dataframe thead th {\n",
       "        text-align: right;\n",
       "    }\n",
       "</style>\n",
       "<table border=\"1\" class=\"dataframe\">\n",
       "  <thead>\n",
       "    <tr style=\"text-align: right;\">\n",
       "      <th></th>\n",
       "      <th>name</th>\n",
       "      <th>metrage in m2</th>\n",
       "      <th>number of rooms</th>\n",
       "      <th>floor</th>\n",
       "      <th>balcony</th>\n",
       "      <th>price in zl</th>\n",
       "      <th>price per metre in zl</th>\n",
       "    </tr>\n",
       "  </thead>\n",
       "  <tbody>\n",
       "    <tr>\n",
       "      <th>0</th>\n",
       "      <td>Mieszkanie 3-pokojowe Czeladź BEZ POŚREDNIKÓW</td>\n",
       "      <td>Powierzchnia57,5 m²</td>\n",
       "      <td>Liczba pokoi3</td>\n",
       "      <td>Piętro3/3</td>\n",
       "      <td>Balkon / ogród / tarasbalkon</td>\n",
       "      <td>325 000 zł</td>\n",
       "      <td>5 652 zł/m²</td>\n",
       "    </tr>\n",
       "    <tr>\n",
       "      <th>1</th>\n",
       "      <td>Mieszkanie Czeladź, Niepodległości, 3 pokoje</td>\n",
       "      <td>Powierzchnia52 m²</td>\n",
       "      <td>Liczba pokoi3</td>\n",
       "      <td>Piętro4/4</td>\n",
       "      <td>Balkon / ogród / tarasbalkon</td>\n",
       "      <td>399 000 zł</td>\n",
       "      <td>7 673 zł/m²</td>\n",
       "    </tr>\n",
       "    <tr>\n",
       "      <th>2</th>\n",
       "      <td>Mieszkanie M2 30m2 - ul. Miasta Auby 2</td>\n",
       "      <td>Powierzchnia30 m²</td>\n",
       "      <td>Liczba pokoi1</td>\n",
       "      <td>Piętro4/10</td>\n",
       "      <td>Balkon / ogród / taraszapytaj</td>\n",
       "      <td>166 000 zł</td>\n",
       "      <td>5 533 zł/m²</td>\n",
       "    </tr>\n",
       "    <tr>\n",
       "      <th>4</th>\n",
       "      <td>Dwupokojowe w Czeladzi !!!</td>\n",
       "      <td>Powierzchnia43 m²</td>\n",
       "      <td>Liczba pokoi2</td>\n",
       "      <td>Piętro2/4</td>\n",
       "      <td>Balkon / ogród / tarasbalkon</td>\n",
       "      <td>190 000 zł</td>\n",
       "      <td>4 419 zł/m²</td>\n",
       "    </tr>\n",
       "    <tr>\n",
       "      <th>6</th>\n",
       "      <td>Klimatyczne 2 pokoje po generalnym remoncie!</td>\n",
       "      <td>Powierzchnia34 m²</td>\n",
       "      <td>Liczba pokoi2</td>\n",
       "      <td>Piętrozapytaj</td>\n",
       "      <td>Balkon / ogród / taraszapytaj</td>\n",
       "      <td>199 000 zł</td>\n",
       "      <td>5 853 zł/m²</td>\n",
       "    </tr>\n",
       "  </tbody>\n",
       "</table>\n",
       "</div>"
      ],
      "text/plain": [
       "                                            name        metrage in m2  \\\n",
       "0  Mieszkanie 3-pokojowe Czeladź BEZ POŚREDNIKÓW  Powierzchnia57,5 m²   \n",
       "1   Mieszkanie Czeladź, Niepodległości, 3 pokoje    Powierzchnia52 m²   \n",
       "2         Mieszkanie M2 30m2 - ul. Miasta Auby 2    Powierzchnia30 m²   \n",
       "4                     Dwupokojowe w Czeladzi !!!    Powierzchnia43 m²   \n",
       "6   Klimatyczne 2 pokoje po generalnym remoncie!    Powierzchnia34 m²   \n",
       "\n",
       "  number of rooms          floor                        balcony price in zl  \\\n",
       "0   Liczba pokoi3      Piętro3/3   Balkon / ogród / tarasbalkon  325 000 zł   \n",
       "1   Liczba pokoi3      Piętro4/4   Balkon / ogród / tarasbalkon  399 000 zł   \n",
       "2   Liczba pokoi1     Piętro4/10  Balkon / ogród / taraszapytaj  166 000 zł   \n",
       "4   Liczba pokoi2      Piętro2/4   Balkon / ogród / tarasbalkon  190 000 zł   \n",
       "6   Liczba pokoi2  Piętrozapytaj  Balkon / ogród / taraszapytaj  199 000 zł   \n",
       "\n",
       "  price per metre in zl  \n",
       "0           5 652 zł/m²  \n",
       "1           7 673 zł/m²  \n",
       "2           5 533 zł/m²  \n",
       "4           4 419 zł/m²  \n",
       "6           5 853 zł/m²  "
      ]
     },
     "execution_count": 3,
     "metadata": {},
     "output_type": "execute_result"
    }
   ],
   "source": [
    "df = df.drop_duplicates()\n",
    "df.head()"
   ]
  },
  {
   "cell_type": "code",
   "execution_count": 4,
   "id": "13e3f7ed",
   "metadata": {},
   "outputs": [],
   "source": [
    "#metrage\n",
    "old_metrage = df[\"metrage in m2\"]\n",
    "new_metrage = []\n",
    "for x in old_metrage:\n",
    "    x = x.replace(\"Powierzchnia\", \"\")\n",
    "    x = x.replace(\" m²\", \"\")\n",
    "    x = x.replace(\",\", \".\")\n",
    "    new_metrage.append(float(x))\n",
    "df[\"metrage in m2\"] = new_metrage"
   ]
  },
  {
   "cell_type": "code",
   "execution_count": 5,
   "id": "f3aa8f24",
   "metadata": {},
   "outputs": [],
   "source": [
    "#rooms\n",
    "old_number = df[\"number of rooms\"]\n",
    "new_number = []\n",
    "for x in old_number:\n",
    "    x = x.replace(\"Liczba pokoi\", \"\")\n",
    "    new_number.append(int(x))\n",
    "df[\"number of rooms\"] = new_number"
   ]
  },
  {
   "cell_type": "code",
   "execution_count": 6,
   "id": "0ae79334",
   "metadata": {},
   "outputs": [],
   "source": [
    "#floor\n",
    "old_floor = df[\"floor\"]\n",
    "new_floor = []\n",
    "for x in old_floor:\n",
    "    x = x.replace(\"Piętro\", \"\")\n",
    "    if \"parter\" in x:\n",
    "        x = x.replace(\"parter\", \"0\")\n",
    "    if \"poddasze\" in x:\n",
    "        x = x.replace(\"poddasze\", \"0\")\n",
    "    new_floor.append(x)\n",
    "df[\"floor\"] = new_floor\n",
    "df = df[df[\"floor\"] != \"zapytaj\"] \n",
    "final_floor = []\n",
    "for x in df[\"floor\"]:\n",
    "    final_floor.append(int(x[0]))\n",
    "df[\"floor\"] = final_floor"
   ]
  },
  {
   "cell_type": "code",
   "execution_count": 7,
   "id": "de29c60b",
   "metadata": {},
   "outputs": [],
   "source": [
    "#balcony\n",
    "new_balcony = []\n",
    "for x in df[\"balcony\"]:\n",
    "    x = x.replace(\"Balkon / ogród / taras\", \"\")\n",
    "    if x == \"balkon\":\n",
    "        x = 1\n",
    "    else:\n",
    "        x = 0\n",
    "    new_balcony.append(x)\n",
    "df[\"balcony\"] = new_balcony"
   ]
  },
  {
   "cell_type": "code",
   "execution_count": 8,
   "id": "c5c19267",
   "metadata": {},
   "outputs": [],
   "source": [
    "#price\n",
    "new_price = []\n",
    "for x in df[\"price in zl\"]:\n",
    "    x = x.replace(\"zł\", \"\")\n",
    "    x = x.replace(\" \", \"\")\n",
    "    new_price.append(int(x))\n",
    "df[\"price in zl\"] = new_price"
   ]
  },
  {
   "cell_type": "code",
   "execution_count": 9,
   "id": "719b83c1",
   "metadata": {},
   "outputs": [],
   "source": [
    "#price per metre\n",
    "new_price_per_metre = []\n",
    "for x in df[\"price per metre in zl\"]:\n",
    "    x = x.replace(\"zł/m²\", \"\")\n",
    "    x = x.replace(\" \", \"\")\n",
    "    new_price_per_metre.append(int(x))\n",
    "df[\"price per metre in zl\"] = new_price_per_metre"
   ]
  },
  {
   "cell_type": "code",
   "execution_count": 10,
   "id": "25be3e6b",
   "metadata": {},
   "outputs": [
    {
     "data": {
      "text/html": [
       "<div>\n",
       "<style scoped>\n",
       "    .dataframe tbody tr th:only-of-type {\n",
       "        vertical-align: middle;\n",
       "    }\n",
       "\n",
       "    .dataframe tbody tr th {\n",
       "        vertical-align: top;\n",
       "    }\n",
       "\n",
       "    .dataframe thead th {\n",
       "        text-align: right;\n",
       "    }\n",
       "</style>\n",
       "<table border=\"1\" class=\"dataframe\">\n",
       "  <thead>\n",
       "    <tr style=\"text-align: right;\">\n",
       "      <th></th>\n",
       "      <th>name</th>\n",
       "      <th>metrage in m2</th>\n",
       "      <th>number of rooms</th>\n",
       "      <th>floor</th>\n",
       "      <th>balcony</th>\n",
       "      <th>price in zl</th>\n",
       "      <th>price per metre in zl</th>\n",
       "    </tr>\n",
       "  </thead>\n",
       "  <tbody>\n",
       "    <tr>\n",
       "      <th>0</th>\n",
       "      <td>Mieszkanie 3-pokojowe Czeladź BEZ POŚREDNIKÓW</td>\n",
       "      <td>57.5</td>\n",
       "      <td>3</td>\n",
       "      <td>3</td>\n",
       "      <td>1</td>\n",
       "      <td>325000</td>\n",
       "      <td>5652</td>\n",
       "    </tr>\n",
       "    <tr>\n",
       "      <th>1</th>\n",
       "      <td>Mieszkanie Czeladź, Niepodległości, 3 pokoje</td>\n",
       "      <td>52.0</td>\n",
       "      <td>3</td>\n",
       "      <td>4</td>\n",
       "      <td>1</td>\n",
       "      <td>399000</td>\n",
       "      <td>7673</td>\n",
       "    </tr>\n",
       "    <tr>\n",
       "      <th>2</th>\n",
       "      <td>Mieszkanie M2 30m2 - ul. Miasta Auby 2</td>\n",
       "      <td>30.0</td>\n",
       "      <td>1</td>\n",
       "      <td>4</td>\n",
       "      <td>0</td>\n",
       "      <td>166000</td>\n",
       "      <td>5533</td>\n",
       "    </tr>\n",
       "    <tr>\n",
       "      <th>4</th>\n",
       "      <td>Dwupokojowe w Czeladzi !!!</td>\n",
       "      <td>43.0</td>\n",
       "      <td>2</td>\n",
       "      <td>2</td>\n",
       "      <td>1</td>\n",
       "      <td>190000</td>\n",
       "      <td>4419</td>\n",
       "    </tr>\n",
       "    <tr>\n",
       "      <th>7</th>\n",
       "      <td>Mieszkanie po KAPITALNYM REMONCIE Czeladź</td>\n",
       "      <td>49.0</td>\n",
       "      <td>2</td>\n",
       "      <td>0</td>\n",
       "      <td>1</td>\n",
       "      <td>322500</td>\n",
       "      <td>6582</td>\n",
       "    </tr>\n",
       "  </tbody>\n",
       "</table>\n",
       "</div>"
      ],
      "text/plain": [
       "                                            name  metrage in m2  \\\n",
       "0  Mieszkanie 3-pokojowe Czeladź BEZ POŚREDNIKÓW           57.5   \n",
       "1   Mieszkanie Czeladź, Niepodległości, 3 pokoje           52.0   \n",
       "2         Mieszkanie M2 30m2 - ul. Miasta Auby 2           30.0   \n",
       "4                     Dwupokojowe w Czeladzi !!!           43.0   \n",
       "7      Mieszkanie po KAPITALNYM REMONCIE Czeladź           49.0   \n",
       "\n",
       "   number of rooms  floor  balcony  price in zl  price per metre in zl  \n",
       "0                3      3        1       325000                   5652  \n",
       "1                3      4        1       399000                   7673  \n",
       "2                1      4        0       166000                   5533  \n",
       "4                2      2        1       190000                   4419  \n",
       "7                2      0        1       322500                   6582  "
      ]
     },
     "execution_count": 10,
     "metadata": {},
     "output_type": "execute_result"
    }
   ],
   "source": [
    "df.head()"
   ]
  },
  {
   "cell_type": "code",
   "execution_count": 11,
   "id": "807be27e",
   "metadata": {},
   "outputs": [
    {
     "data": {
      "text/html": [
       "<div>\n",
       "<style scoped>\n",
       "    .dataframe tbody tr th:only-of-type {\n",
       "        vertical-align: middle;\n",
       "    }\n",
       "\n",
       "    .dataframe tbody tr th {\n",
       "        vertical-align: top;\n",
       "    }\n",
       "\n",
       "    .dataframe thead th {\n",
       "        text-align: right;\n",
       "    }\n",
       "</style>\n",
       "<table border=\"1\" class=\"dataframe\">\n",
       "  <thead>\n",
       "    <tr style=\"text-align: right;\">\n",
       "      <th></th>\n",
       "      <th>name</th>\n",
       "      <th>metrage in m2</th>\n",
       "      <th>floor</th>\n",
       "      <th>balcony</th>\n",
       "      <th>price in zl</th>\n",
       "      <th>price per metre in zl</th>\n",
       "    </tr>\n",
       "    <tr>\n",
       "      <th>number of rooms</th>\n",
       "      <th></th>\n",
       "      <th></th>\n",
       "      <th></th>\n",
       "      <th></th>\n",
       "      <th></th>\n",
       "      <th></th>\n",
       "    </tr>\n",
       "  </thead>\n",
       "  <tbody>\n",
       "    <tr>\n",
       "      <th>1</th>\n",
       "      <td>14</td>\n",
       "      <td>14</td>\n",
       "      <td>14</td>\n",
       "      <td>14</td>\n",
       "      <td>14</td>\n",
       "      <td>14</td>\n",
       "    </tr>\n",
       "    <tr>\n",
       "      <th>2</th>\n",
       "      <td>39</td>\n",
       "      <td>39</td>\n",
       "      <td>39</td>\n",
       "      <td>39</td>\n",
       "      <td>39</td>\n",
       "      <td>39</td>\n",
       "    </tr>\n",
       "    <tr>\n",
       "      <th>3</th>\n",
       "      <td>17</td>\n",
       "      <td>17</td>\n",
       "      <td>17</td>\n",
       "      <td>17</td>\n",
       "      <td>17</td>\n",
       "      <td>17</td>\n",
       "    </tr>\n",
       "    <tr>\n",
       "      <th>4</th>\n",
       "      <td>3</td>\n",
       "      <td>3</td>\n",
       "      <td>3</td>\n",
       "      <td>3</td>\n",
       "      <td>3</td>\n",
       "      <td>3</td>\n",
       "    </tr>\n",
       "    <tr>\n",
       "      <th>6</th>\n",
       "      <td>1</td>\n",
       "      <td>1</td>\n",
       "      <td>1</td>\n",
       "      <td>1</td>\n",
       "      <td>1</td>\n",
       "      <td>1</td>\n",
       "    </tr>\n",
       "  </tbody>\n",
       "</table>\n",
       "</div>"
      ],
      "text/plain": [
       "                 name  metrage in m2  floor  balcony  price in zl  \\\n",
       "number of rooms                                                     \n",
       "1                  14             14     14       14           14   \n",
       "2                  39             39     39       39           39   \n",
       "3                  17             17     17       17           17   \n",
       "4                   3              3      3        3            3   \n",
       "6                   1              1      1        1            1   \n",
       "\n",
       "                 price per metre in zl  \n",
       "number of rooms                         \n",
       "1                                   14  \n",
       "2                                   39  \n",
       "3                                   17  \n",
       "4                                    3  \n",
       "6                                    1  "
      ]
     },
     "execution_count": 11,
     "metadata": {},
     "output_type": "execute_result"
    }
   ],
   "source": [
    "aparment_rooms = df.groupby(\"number of rooms\").count()\n",
    "aparment_rooms"
   ]
  },
  {
   "cell_type": "code",
   "execution_count": 12,
   "id": "dc0be674",
   "metadata": {},
   "outputs": [
    {
     "data": {
      "image/png": "[encoded data removed]",
      "text/plain": [
       "<Figure size 720x360 with 1 Axes>"
      ]
     },
     "metadata": {
      "needs_background": "light"
     },
     "output_type": "display_data"
    }
   ],
   "source": [
    "plt.figure(figsize=(10,5))\n",
    "\n",
    "ax = sns.barplot(y=aparment_rooms.name,\n",
    "            x=aparment_rooms.index)\n",
    "\n",
    "plt.xlabel(\"Liczba pokoi\", size=15)\n",
    "plt.ylabel(\"Ilosc mieszkań\", size=15)\n",
    "\n",
    "for i in ax.containers:\n",
    "    ax.bar_label(i,)"
   ]
  },
  {
   "cell_type": "code",
   "execution_count": 13,
   "id": "7f692ef4",
   "metadata": {},
   "outputs": [
    {
     "data": {
      "text/plain": [
       "number of rooms\n",
       "1    160499.857143\n",
       "2    233851.205128\n",
       "3    304528.823529\n",
       "4    405666.666667\n",
       "6    590000.000000\n",
       "Name: price in zl, dtype: float64"
      ]
     },
     "execution_count": 13,
     "metadata": {},
     "output_type": "execute_result"
    }
   ],
   "source": [
    "prize_per_num_rooms = df.groupby(\"number of rooms\")[\"price in zl\"].mean()\n",
    "prize_per_num_rooms"
   ]
  },
  {
   "cell_type": "code",
   "execution_count": 14,
   "id": "1ed6e6b5",
   "metadata": {},
   "outputs": [
    {
     "data": {
      "image/png": "[encoded data removed]",
      "text/plain": [
       "<Figure size 720x360 with 1 Axes>"
      ]
     },
     "metadata": {
      "needs_background": "light"
     },
     "output_type": "display_data"
    }
   ],
   "source": [
    "plt.figure(figsize=(10,5))\n",
    "\n",
    "ax = sns.barplot(y=prize_per_num_rooms.values,\n",
    "            x=prize_per_num_rooms.index)\n",
    "\n",
    "plt.xlabel(\"Liczba pokoi\", size=15)\n",
    "plt.ylabel(\"Średnia cena za mieszkanie\", size=15)\n",
    "\n",
    "for i in ax.containers:\n",
    "    ax.bar_label(i,)"
   ]
  },
  {
   "cell_type": "code",
   "execution_count": 15,
   "id": "d5e4a921",
   "metadata": {},
   "outputs": [
    {
     "data": {
      "text/plain": [
       "<matplotlib.collections.PathCollection at 0x1e85fcae2b0>"
      ]
     },
     "execution_count": 15,
     "metadata": {},
     "output_type": "execute_result"
    },
    {
     "data": {
      "image/png": "[encoded data removed]",
      "text/plain": [
       "<Figure size 1152x648 with 1 Axes>"
      ]
     },
     "metadata": {
      "needs_background": "light"
     },
     "output_type": "display_data"
    }
   ],
   "source": [
    "plt.figure(figsize=(16,9))\n",
    "plt.xlabel(\"Cena\", size=15)\n",
    "plt.ylabel(\"Metraż\", size=15)\n",
    "\n",
    "plt.scatter(y=df[\"metrage in m2\"],\n",
    "           x=df[\"price in zl\"])"
   ]
  },
  {
   "cell_type": "code",
   "execution_count": 16,
   "id": "bdec130d",
   "metadata": {},
   "outputs": [
    {
     "data": {
      "text/plain": [
       "45"
      ]
     },
     "execution_count": 16,
     "metadata": {},
     "output_type": "execute_result"
    }
   ],
   "source": [
    "num_of_balconies = df[df[\"balcony\"] == 1].count()[0]\n",
    "num_of_balconies"
   ]
  },
  {
   "cell_type": "code",
   "execution_count": 17,
   "id": "65274207",
   "metadata": {},
   "outputs": [
    {
     "data": {
      "text/html": [
       "<div>\n",
       "<style scoped>\n",
       "    .dataframe tbody tr th:only-of-type {\n",
       "        vertical-align: middle;\n",
       "    }\n",
       "\n",
       "    .dataframe tbody tr th {\n",
       "        vertical-align: top;\n",
       "    }\n",
       "\n",
       "    .dataframe thead th {\n",
       "        text-align: right;\n",
       "    }\n",
       "</style>\n",
       "<table border=\"1\" class=\"dataframe\">\n",
       "  <thead>\n",
       "    <tr style=\"text-align: right;\">\n",
       "      <th></th>\n",
       "      <th>metrage in m2</th>\n",
       "      <th>number of rooms</th>\n",
       "      <th>floor</th>\n",
       "      <th>balcony</th>\n",
       "    </tr>\n",
       "  </thead>\n",
       "  <tbody>\n",
       "    <tr>\n",
       "      <th>0</th>\n",
       "      <td>57.5</td>\n",
       "      <td>3</td>\n",
       "      <td>3</td>\n",
       "      <td>1</td>\n",
       "    </tr>\n",
       "    <tr>\n",
       "      <th>1</th>\n",
       "      <td>52.0</td>\n",
       "      <td>3</td>\n",
       "      <td>4</td>\n",
       "      <td>1</td>\n",
       "    </tr>\n",
       "    <tr>\n",
       "      <th>2</th>\n",
       "      <td>30.0</td>\n",
       "      <td>1</td>\n",
       "      <td>4</td>\n",
       "      <td>0</td>\n",
       "    </tr>\n",
       "    <tr>\n",
       "      <th>4</th>\n",
       "      <td>43.0</td>\n",
       "      <td>2</td>\n",
       "      <td>2</td>\n",
       "      <td>1</td>\n",
       "    </tr>\n",
       "    <tr>\n",
       "      <th>7</th>\n",
       "      <td>49.0</td>\n",
       "      <td>2</td>\n",
       "      <td>0</td>\n",
       "      <td>1</td>\n",
       "    </tr>\n",
       "  </tbody>\n",
       "</table>\n",
       "</div>"
      ],
      "text/plain": [
       "   metrage in m2  number of rooms  floor  balcony\n",
       "0           57.5                3      3        1\n",
       "1           52.0                3      4        1\n",
       "2           30.0                1      4        0\n",
       "4           43.0                2      2        1\n",
       "7           49.0                2      0        1"
      ]
     },
     "execution_count": 17,
     "metadata": {},
     "output_type": "execute_result"
    }
   ],
   "source": [
    "X = df.iloc[:, 1:5]\n",
    "X.head()"
   ]
  },
  {
   "cell_type": "code",
   "execution_count": 18,
   "id": "5226804c",
   "metadata": {},
   "outputs": [
    {
     "data": {
      "text/plain": [
       "0    325000\n",
       "1    399000\n",
       "2    166000\n",
       "4    190000\n",
       "7    322500\n",
       "Name: price in zl, dtype: int64"
      ]
     },
     "execution_count": 18,
     "metadata": {},
     "output_type": "execute_result"
    }
   ],
   "source": [
    "y = df.iloc[:, 5]\n",
    "y.head()"
   ]
  },
  {
   "cell_type": "code",
   "execution_count": 19,
   "id": "edb8b4f1",
   "metadata": {},
   "outputs": [
    {
     "data": {
      "text/plain": [
       "0.6567819368654225"
      ]
     },
     "execution_count": 19,
     "metadata": {},
     "output_type": "execute_result"
    }
   ],
   "source": [
    "lr = LinearRegression()\n",
    "lr.fit(X,y)\n",
    "lr.score(X,y)"
   ]
  },
  {
   "cell_type": "code",
   "execution_count": 20,
   "id": "151318fa",
   "metadata": {},
   "outputs": [
    {
     "name": "stdout",
     "output_type": "stream",
     "text": [
      "[194901.04311605]\n"
     ]
    }
   ],
   "source": [
    "my_apartment = np.array([38, 1, 3, 1])\n",
    "my_prediction = lr.predict(my_apartment.reshape(1, -1))\n",
    "print(my_prediction)"
   ]
  },
  {
   "cell_type": "code",
   "execution_count": null,
   "id": "7d7e9496",
   "metadata": {},
   "outputs": [],
   "source": []
  }
 ],
 "metadata": {
  "kernelspec": {
   "display_name": "Python 3 (ipykernel)",
   "language": "python",
   "name": "python3"
  },
  "language_info": {
   "codemirror_mode": {
    "name": "ipython",
    "version": 3
   },
   "file_extension": ".py",
   "mimetype": "text/x-python",
   "name": "python",
   "nbconvert_exporter": "python",
   "pygments_lexer": "ipython3",
   "version": "3.9.7"
  }
 },
 "nbformat": 4,
 "nbformat_minor": 5
}
